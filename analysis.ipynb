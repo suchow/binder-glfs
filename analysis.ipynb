{
  "cells": [
    {
      "cell_type": "markdown",
      "source": [
        "# Using Git Large File Storage in a Binder"
      ],
      "metadata": {}
    },
    {
      "cell_type": "code",
      "source": [
        "import os\n",
        "\n",
        "filenames = [\n",
        "    \"file1.txt\",\n",
        "    \"file2.txt\",\n",
        "    \"file3.txt\",\n",
        "]\n",
        "\n",
        "for filename in filenames:\n",
        "    with open(os.path.join(\"data\", filename)) as file:  \n",
        "        data = file.read()\n",
        "        print(len(data))"
      ],
      "outputs": [],
      "execution_count": 2,
      "metadata": {}
    }
  ],
  "metadata": {
    "kernelspec": {
      "name": "python2",
      "language": "python",
      "display_name": "Python 2"
    },
    "kernel_info": {
      "name": "python2"
    },
    "language_info": {
      "mimetype": "text/x-python",
      "nbconvert_exporter": "python",
      "name": "python",
      "pygments_lexer": "ipython2",
      "version": "2.7.13",
      "file_extension": ".py",
      "codemirror_mode": {
        "version": 2,
        "name": "ipython"
      }
    }
  },
  "nbformat": 4,
  "nbformat_minor": 4
}